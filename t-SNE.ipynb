{
 "cells": [
  {
   "cell_type": "code",
   "execution_count": 1,
   "metadata": {},
   "outputs": [],
   "source": [
    "from MulticoreTSNE import MulticoreTSNE as TSNE\n",
    "from matplotlib import pyplot as plt\n",
    "from tools import utils\n",
    "import torch\n",
    "import torch.functional as F\n",
    "\n",
    "scaler = torch.cuda.amp.GradScaler()"
   ]
  },
  {
   "cell_type": "code",
   "execution_count": 2,
   "metadata": {},
   "outputs": [],
   "source": [
    "ckpt_pretrained = 'weights/supcon_first_stage/swa'\n",
    "data_dir = 'data/product_version3'\n",
    "num_classes = 44\n",
    "batch_sizes = {\n",
    "    \"train_batch_size\": 128,\n",
    "    'valid_batch_size': 128,\n",
    "}\n",
    "num_workers = 12\n",
    "backbone = 'resnet18'\n",
    "stage = 'first'\n",
    "\n",
    "transforms = utils.build_transforms(second_stage=(stage == 'second'))\n",
    "loaders = utils.build_loaders(data_dir, transforms, batch_sizes, num_workers, second_stage=(stage == 'second'))\n",
    "    "
   ]
  },
  {
   "cell_type": "code",
   "execution_count": null,
   "metadata": {
    "pycharm": {
     "name": "#%%\n"
    }
   },
   "outputs": [],
   "source": [
    "model = utils.build_model(backbone, second_stage=(stage == 'second'), num_classes=num_classes, ckpt_pretrained=ckpt_pretrained).cuda()\n",
    "model.eval()\n",
    "\n",
    "embeddings, labels = utils.compute_embeddings(loaders['valid_loader'], model, scaler)\n",
    "embeddings_tsne = TSNE(n_jobs=num_workers).fit_transform(embeddings)\n",
    "vis_x = embeddings_tsne[:, 0]\n",
    "vis_y = embeddings_tsne[:, 1]\n",
    "plt.scatter(vis_x, vis_y, c=labels, cmap=plt.cm.get_cmap(\"jet\", num_classes), marker='.')\n",
    "plt.colorbar(ticks=range(num_classes))\n",
    "plt.show()"
   ]
  },
  {
   "cell_type": "code",
   "execution_count": null,
   "metadata": {},
   "outputs": [],
   "source": []
  }
 ],
 "metadata": {
  "kernelspec": {
   "display_name": "Python 3",
   "language": "python",
   "name": "python3"
  },
  "language_info": {
   "codemirror_mode": {
    "name": "ipython",
    "version": 3
   },
   "file_extension": ".py",
   "mimetype": "text/x-python",
   "name": "python",
   "nbconvert_exporter": "python",
   "pygments_lexer": "ipython3",
   "version": "3.6.9"
  },
  "pycharm": {
   "stem_cell": {
    "cell_type": "raw",
    "source": [],
    "metadata": {
     "collapsed": false
    }
   }
  }
 },
 "nbformat": 4,
 "nbformat_minor": 4
}